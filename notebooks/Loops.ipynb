{
 "cells": [
  {
   "cell_type": "markdown",
   "id": "6df64840-ba7f-4918-b440-cbcaa1dbba25",
   "metadata": {},
   "source": [
    "# Example 1: Sum of First N Natural Numbers"
   ]
  },
  {
   "cell_type": "code",
   "execution_count": 2,
   "id": "71b638d6-e2d9-47e2-be8f-df840d8f8a79",
   "metadata": {},
   "outputs": [
    {
     "name": "stdout",
     "output_type": "stream",
     "text": [
      "Sum of first 10 natural numbers: 55\n"
     ]
    }
   ],
   "source": [
    "int n = 10;\n",
    "int sum = 0;\n",
    "\n",
    "for (int i = 1; i <= n; i++) {\n",
    "    sum += i;\n",
    "}\n",
    "\n",
    "System.out.println(\"Sum of first \" + n + \" natural numbers: \" + sum);\n"
   ]
  },
  {
   "cell_type": "markdown",
   "id": "92c4281e-11b0-4be0-81e2-6b4f111076a3",
   "metadata": {},
   "source": [
    "# Example 2: Multiplication Table (using for loop)"
   ]
  },
  {
   "cell_type": "code",
   "execution_count": 3,
   "id": "d490b3c3-925f-46b0-b68a-a32d4709f55c",
   "metadata": {},
   "outputs": [
    {
     "name": "stdout",
     "output_type": "stream",
     "text": [
      "Multiplication Table of 7:\n",
      "7 x 1 = 7\n",
      "7 x 2 = 14\n",
      "7 x 3 = 21\n",
      "7 x 4 = 28\n",
      "7 x 5 = 35\n",
      "7 x 6 = 42\n",
      "7 x 7 = 49\n",
      "7 x 8 = 56\n",
      "7 x 9 = 63\n",
      "7 x 10 = 70\n"
     ]
    }
   ],
   "source": [
    "int num = 7;\n",
    "\n",
    "System.out.println(\"Multiplication Table of \" + num + \":\");\n",
    "for (int i = 1; i <= 10; i++) {\n",
    "    System.out.println(num + \" x \" + i + \" = \" + (num * i));\n",
    "}\n"
   ]
  },
  {
   "cell_type": "markdown",
   "id": "ff140cd0-fcb3-4a3f-bc83-9b1fd8ee13f2",
   "metadata": {},
   "source": [
    "# Example 3: Factorial of a Number"
   ]
  },
  {
   "cell_type": "code",
   "execution_count": null,
   "id": "c69e24f1-cfb3-4f81-a757-309917389081",
   "metadata": {},
   "outputs": [],
   "source": [
    "int n = 5;\n",
    "int fact = 1;\n",
    "\n",
    "for (int i = 1; i <= n; i++) {\n",
    "    fact *= i;\n",
    "}\n",
    "\n",
    "System.out.println(\"Factorial of \" + n + \" is: \" + fact);\n"
   ]
  },
  {
   "cell_type": "code",
   "execution_count": null,
   "id": "16c0365e-3827-43f7-a80a-e464ba633af8",
   "metadata": {},
   "outputs": [],
   "source": []
  }
 ],
 "metadata": {
  "kernelspec": {
   "display_name": "Java",
   "language": "java",
   "name": "java"
  },
  "language_info": {
   "codemirror_mode": "java",
   "file_extension": ".jshell",
   "mimetype": "text/x-java-source",
   "name": "Java",
   "pygments_lexer": "java",
   "version": "17.0.12+7"
  }
 },
 "nbformat": 4,
 "nbformat_minor": 5
}
