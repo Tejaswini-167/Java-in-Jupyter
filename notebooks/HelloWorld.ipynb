{
 "cells": [
  {
   "cell_type": "markdown",
   "id": "be02f01c-a5ba-425b-ba8f-8fd2319d45eb",
   "metadata": {},
   "source": [
    "# Print Hello World in Jupyter Notebook"
   ]
  },
  {
   "cell_type": "code",
   "execution_count": 8,
   "id": "7066345b-c6a0-4568-98d2-b562e273f123",
   "metadata": {},
   "outputs": [
    {
     "name": "stdout",
     "output_type": "stream",
     "text": [
      "Hello, World!\n"
     ]
    }
   ],
   "source": [
    "System.out.println(\"Hello, World!\");\n"
   ]
  },
  {
   "cell_type": "code",
   "execution_count": 10,
   "id": "223460b7-39dd-4e1b-a1ea-fce7953925bb",
   "metadata": {},
   "outputs": [
    {
     "name": "stdout",
     "output_type": "stream",
     "text": [
      "Welcome to Jupyter Notebook!\n"
     ]
    }
   ],
   "source": [
    "System.out.println(\"Welcome to Jupyter Notebook!\");"
   ]
  },
  {
   "cell_type": "markdown",
   "id": "e19de621-0dcd-4f78-9133-ed431e9a3c4c",
   "metadata": {},
   "source": [
    "# Variables and Data Types"
   ]
  },
  {
   "cell_type": "code",
   "execution_count": 14,
   "id": "eb10e954-0fdb-4bb4-936a-56a172f1170a",
   "metadata": {},
   "outputs": [
    {
     "name": "stdout",
     "output_type": "stream",
     "text": [
      "Name: P.Tejaswini\n",
      "Age: 20\n",
      "CGPA: 9.39\n"
     ]
    }
   ],
   "source": [
    "int age = 20;\n",
    "float CGPA = 9.39f;\n",
    "String name = \"P.Tejaswini\";\n",
    "\n",
    "System.out.println(\"Name: \" + name);\n",
    "System.out.println(\"Age: \" + age);\n",
    "System.out.println(\"CGPA: \" + CGPA);\n"
   ]
  },
  {
   "cell_type": "code",
   "execution_count": null,
   "id": "001dc2d4-f2a5-44e8-93b1-f972980afb7e",
   "metadata": {},
   "outputs": [],
   "source": []
  }
 ],
 "metadata": {
  "kernelspec": {
   "display_name": "Java",
   "language": "java",
   "name": "java"
  },
  "language_info": {
   "codemirror_mode": "java",
   "file_extension": ".jshell",
   "mimetype": "text/x-java-source",
   "name": "Java",
   "pygments_lexer": "java",
   "version": "17.0.12+7"
  }
 },
 "nbformat": 4,
 "nbformat_minor": 5
}
