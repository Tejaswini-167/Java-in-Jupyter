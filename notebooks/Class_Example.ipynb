{
 "cells": [
  {
   "cell_type": "markdown",
   "id": "cb0a28c2-a911-45c7-967b-192a1f91a674",
   "metadata": {},
   "source": [
    "# Example 1: Student Class\n"
   ]
  },
  {
   "cell_type": "code",
   "execution_count": 6,
   "id": "5c99163e-ed31-408d-aefd-6e8cc6e39e86",
   "metadata": {},
   "outputs": [],
   "source": [
    "class Student {\n",
    "    String name;\n",
    "    int age;\n",
    "\n",
    "    public void display() {\n",
    "        System.out.println(\"Name: \" + name);\n",
    "        System.out.println(\"Age: \" + age);\n",
    "    }\n",
    "}\n"
   ]
  },
  {
   "cell_type": "code",
   "execution_count": 8,
   "id": "327175d8-702e-4467-a749-632c09fdee19",
   "metadata": {},
   "outputs": [
    {
     "name": "stdout",
     "output_type": "stream",
     "text": [
      "Name: Tejaswini\n",
      "Age: 20\n"
     ]
    }
   ],
   "source": [
    "Student s1 = new Student();\n",
    "s1.name = \"Tejaswini\";\n",
    "s1.age = 20;\n",
    "s1.display();\n"
   ]
  },
  {
   "cell_type": "markdown",
   "id": "92e47e5c-3708-4d43-8fc6-403685c0893d",
   "metadata": {},
   "source": [
    "# Example 2: Rectangle Class"
   ]
  },
  {
   "cell_type": "code",
   "execution_count": 11,
   "id": "b9f111a8-1a85-4c35-b7da-d10d3d5e7e79",
   "metadata": {},
   "outputs": [],
   "source": [
    "class Rectangle {\n",
    "    int length;\n",
    "    int width;\n",
    "    \n",
    "    public int area() {\n",
    "        return length * width;\n",
    "    }\n",
    "}"
   ]
  },
  {
   "cell_type": "code",
   "execution_count": 12,
   "id": "101740cf-8faa-4358-bd78-1a53bf486f33",
   "metadata": {},
   "outputs": [
    {
     "name": "stdout",
     "output_type": "stream",
     "text": [
      "Area of rectangle: 15\n"
     ]
    }
   ],
   "source": [
    "Rectangle r1 = new Rectangle();\n",
    "r1.length = 5;\n",
    "r1.width = 3;\n",
    "System.out.println(\"Area of rectangle: \" + r1.area());\n",
    "    \n"
   ]
  },
  {
   "cell_type": "code",
   "execution_count": null,
   "id": "eca998ac-ccac-4060-b292-c1ee51bf6ed6",
   "metadata": {},
   "outputs": [],
   "source": []
  }
 ],
 "metadata": {
  "kernelspec": {
   "display_name": "Java",
   "language": "java",
   "name": "java"
  },
  "language_info": {
   "codemirror_mode": "java",
   "file_extension": ".jshell",
   "mimetype": "text/x-java-source",
   "name": "Java",
   "pygments_lexer": "java",
   "version": "17.0.12+7"
  }
 },
 "nbformat": 4,
 "nbformat_minor": 5
}
