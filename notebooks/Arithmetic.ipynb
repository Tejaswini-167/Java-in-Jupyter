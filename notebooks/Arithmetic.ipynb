{
 "cells": [
  {
   "cell_type": "markdown",
   "id": "17d2d7eb-5d4a-44c2-8339-e011f52ce900",
   "metadata": {},
   "source": [
    "# Example 1: Basic Arithmetic"
   ]
  },
  {
   "cell_type": "code",
   "execution_count": 2,
   "id": "0b20970d-b4e3-4da6-8aa8-07c870160284",
   "metadata": {},
   "outputs": [
    {
     "name": "stdout",
     "output_type": "stream",
     "text": [
      "Addition: 19\n",
      "Subtraction: 11\n",
      "Multiplication: 60\n",
      "Division: 3\n",
      "Remainder: 3\n",
      "Power: 50625.0\n"
     ]
    }
   ],
   "source": [
    "int a = 15, b = 4;\n",
    "\n",
    "System.out.println(\"Addition: \" + (a + b));\n",
    "System.out.println(\"Subtraction: \" + (a - b));\n",
    "System.out.println(\"Multiplication: \" + (a * b));\n",
    "System.out.println(\"Division: \" + (a / b));      \n",
    "System.out.println(\"Remainder: \" + (a % b));\n",
    "System.out.println(\"Power: \" + Math.pow(a, b));\n"
   ]
  },
  {
   "cell_type": "markdown",
   "id": "a747864b-718f-4182-a2f9-4124cb114cc1",
   "metadata": {},
   "source": [
    "# Example 2: Area of a Circle"
   ]
  },
  {
   "cell_type": "code",
   "execution_count": 8,
   "id": "2bd0fae6-8333-4d42-adf2-5e419c35cf67",
   "metadata": {},
   "outputs": [
    {
     "name": "stdout",
     "output_type": "stream",
     "text": [
      "Radius: 7.0\n",
      "Area of Circle: 153.93803\n"
     ]
    }
   ],
   "source": [
    "float radius = 7f;\n",
    "float area = (float)(Math.PI * Math.pow(radius, 2));\n",
    "\n",
    "System.out.println(\"Radius: \" + radius);\n",
    "System.out.println(\"Area of Circle: \" + area);\n",
    "\n"
   ]
  },
  {
   "cell_type": "markdown",
   "id": "a840c948-44aa-451e-888e-8e9b4ea3068c",
   "metadata": {},
   "source": [
    "# Example 3: Quadratic Equation Solver"
   ]
  },
  {
   "cell_type": "code",
   "execution_count": 4,
   "id": "92464abd-e74f-4009-bce1-ee13ffd46e6b",
   "metadata": {},
   "outputs": [
    {
     "name": "stdout",
     "output_type": "stream",
     "text": [
      "Roots of the equation: 2.0 and 1.0\n"
     ]
    }
   ],
   "source": [
    "double a = 1, b = -3, c = 2; // Equation: x^2 - 3x + 2 = 0\n",
    "double discriminant = Math.pow(b, 2) - 4 * a * c;\n",
    "\n",
    "double root1 = (-b + Math.sqrt(discriminant)) / (2 * a);\n",
    "double root2 = (-b - Math.sqrt(discriminant)) / (2 * a);\n",
    "\n",
    "System.out.println(\"Roots of the equation: \" + root1 + \" and \" + root2);\n"
   ]
  },
  {
   "cell_type": "code",
   "execution_count": null,
   "id": "288c0e08-03f8-4bca-aa83-b447f815aa31",
   "metadata": {},
   "outputs": [],
   "source": []
  }
 ],
 "metadata": {
  "kernelspec": {
   "display_name": "Java",
   "language": "java",
   "name": "java"
  },
  "language_info": {
   "codemirror_mode": "java",
   "file_extension": ".jshell",
   "mimetype": "text/x-java-source",
   "name": "Java",
   "pygments_lexer": "java",
   "version": "17.0.12+7"
  }
 },
 "nbformat": 4,
 "nbformat_minor": 5
}
